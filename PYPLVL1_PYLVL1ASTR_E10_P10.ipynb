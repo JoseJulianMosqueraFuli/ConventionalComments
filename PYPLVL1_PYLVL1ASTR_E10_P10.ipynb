{
  "cells": [
    {
      "cell_type": "markdown",
      "metadata": {
        "id": "view-in-github",
        "colab_type": "text"
      },
      "source": [
        "<a href=\"https://colab.research.google.com/github/JoseJulianMosqueraFuli/ConventionalComments/blob/main/PYPLVL1_PYLVL1ASTR_E10_P10.ipynb\" target=\"_parent\"><img src=\"https://colab.research.google.com/assets/colab-badge.svg\" alt=\"Open In Colab\"/></a>"
      ]
    },
    {
      "cell_type": "markdown",
      "metadata": {
        "id": "f95p817qByaC"
      },
      "source": [
        "<p><img src=\"https://upload.wikimedia.org/wikipedia/commons/thumb/1/13/SoftServe_logo_2017.svg/179px-SoftServe_logo_2017.svg.png?20220507181101\" alt=\"\" width=\"363\" height=\"63\" /></p>\n",
        "\n",
        "----\n",
        "\n",
        "### **INFORMACIÓN TECNICA**\n",
        "* **ID**: PYPLVL1_PYLVL1ASTR_E10_P10\n",
        "* **Python Versión:** 3.x\n",
        "* **Versión:** 0.0.1\n",
        "---\n",
        "### **INTRODUCCIÓN**\n",
        "\n",
        "En Python, una cadena es una secuencia de caracteres. Es un tipo de dato fundamental utilizado para representar texto. Las cadenas se encierran entre comillas simples (') o comillas dobles (\"), y pueden contener letras, dígitos, símbolos y espacios.\n",
        "\n",
        "Las cadenas son ampliamente utilizadas en Python para manejar datos de texto, manipulación de cadenas y trabajar con contenido de archivos, lo que las convierte en una parte esencial de la programación en Python.\n",
        "\n",
        "### **QUE SE APRENDERA**\n",
        "\n",
        "- Crear una Cadena:<br/>\n",
        "  Puedes crear una cadena encerrando el texto entre comillas simples o comillas dobles:\n",
        "  ```python\n",
        "  cadena_comillas_simples = 'Hola, mundo!'\n",
        "  cadena_comillas_dobles = \"Esto es una cadena.\"\n",
        "\n",
        "  ```\n",
        "\n",
        "- Operaciones con Cadenas:<br/>\n",
        "  Python permite diversas operaciones con cadenas:\n",
        "\n",
        "    - **Concatenación:** Puedes combinar cadenas usando el operador `+`:\n",
        "      ```python\n",
        "      cadena1 = \"Hola\"\n",
        "      cadena2 = \" Mundo\"\n",
        "      resultado = cadena1 + cadena2  # Resultado: \"Hola Mundo\"\n",
        "\n",
        "      ```\n",
        "\n",
        "    - **Repetición:** Puedes repetir una cadena usando el operador `*`:\n",
        "      ```python\n",
        "      cadena1 = \"Python \"\n",
        "      resultado = cadena1 * 3  # Resultado: \"Python Python Python \"\n",
        "\n",
        "      ```\n",
        "\n",
        "- Acceder a Caracteres en una Cadena:<br/>\n",
        "  Puedes acceder a caracteres individuales en una cadena mediante indexación. Python utiliza indexación basada en cero, por lo que el primer carácter está en el índice 0, el segundo en el índice 1, y así sucesivamente:\n",
        "  ```python\n",
        "  mi_cadena = \"Hola\"\n",
        "  primer_caracter = mi_cadena[0]  # Resultado: \"H\"\n",
        "  segundo_caracter = mi_cadena[1]  # Resultado: \"o\"\n",
        "\n",
        "  ```\n",
        "\n",
        "- Rebanado de Cadenas:<br/>\n",
        "  Puedes extraer una porción de una cadena utilizando el rebanado (slicing). El rebanado te permite obtener una subcadena basada en un rango específico de índices:\n",
        "  ```python\n",
        "  mi_cadena = \"Hola, mundo!\"\n",
        "  subcadena = mi_cadena[7:12]  # Resultado: \"mundo\"\n",
        "\n",
        "  ```\n",
        "\n",
        "- Métodos de Cadenas:<br/>\n",
        "  Python proporciona varios métodos integrados para manipular cadenas. Algunos métodos comunes son:\n",
        "    - `len()`: Devuelve la longitud de la cadena.\n",
        "    - `lower()`: Convierte la cadena a minúsculas.\n",
        "    - `upper()`: Convierte la cadena a mayúsculas.\n",
        "    - `strip()`: Elimina espacios en blanco al inicio y al final.\n",
        "    - `split()`: Divide la cadena en una lista de subcadenas basadas en un delimitador.\n",
        "    - `replace()`: Reemplaza una subcadena con otra subcadena.\n",
        "\n",
        "  ```python\n",
        "  mensaje = \" Hola, Python! \"\n",
        "  longitud = len(mensaje)                # Resultado: 16\n",
        "  mensaje_minusculas = mensaje.lower()   # Resultado: \" hola, python! \"\n",
        "  mensaje_mayusculas = mensaje.upper()   # Resultado: \" HOLA, PYTHON! \"\n",
        "  mensaje_sin_espacios = mensaje.strip() # Resultado: \"Hola, Python!\"\n",
        "  palabras = mensaje.split(\",\")          # Resultado: [' Hola', ' Python! ']\n",
        "  nuevo_mensaje = mensaje.replace(\"Python\", \"Java\")  # Resultado: \" Hola, Java! \"\n",
        "\n",
        "  ```\n",
        "\n",
        "\n",
        "\n",
        "# **EJERCICIOS**"
      ]
    },
    {
      "cell_type": "markdown",
      "metadata": {
        "id": "I1kgAOsTKqlx"
      },
      "source": [
        "<p>\n",
        "    <img src=\"https://cdn.icon-icons.com/icons2/1130/PNG/512/numberzeroinacircle_80181.png\" alt=\"01\" width=\"65\" height=\"65\" />\n",
        "    <img src=\"https://cdn.icon-icons.com/icons2/1130/PNG/512/numberoneinacircle_80030.png\" alt=\"01\" width=\"65\" height=\"65\" />\n",
        "</p>\n",
        "\n",
        "\n",
        "* **ID** PYLVL1ASTR-01\n",
        "* **DESCRIPCIÓN:** Strings\n",
        "\n",
        "String es un tipo de dato que identifica una cadena de caracteres, en python se pueden elaborar tanto con comillas dobles como\n",
        "con simples, pero no se pueden mezclar.\n",
        "\n",
        "El metodo type() retorna el tipo de dato de la variable analizada, en este ejercicio la ejecucion debe dar string.\n",
        "\n",
        "**Ejercicio:**<br/>\n",
        "Escribir dentro de la función ``function`` la lógica para crear 2 variables llamadas mensaje1 y mensaje2 la primera con un string (cualquiera) en comillas dobles y la segunda con otro string con comillas simples.\n",
        "\n",
        "\\\n",
        "**Reglas:**\n",
        "1. No modifique la declaración de la función. El concepto detras de las funciones se verá mas adelante.\n",
        "2. Si no sigue alguna de estas reglas, el ejercicio será marcado como erroneo.\n",
        "\n",
        "\\\n",
        "**Respuesta Esperada**\n",
        "\n",
        "```python\n",
        "# Retornar los tipos de datos de los mensajes que escribío.\n",
        "return tipo_str_mensaje1, tipo_str_mensaje2\n",
        "```\n"
      ]
    },
    {
      "cell_type": "code",
      "source": [
        "pip install math.sqrt"
      ],
      "metadata": {
        "id": "5gZ54423SiW9"
      },
      "execution_count": null,
      "outputs": []
    },
    {
      "cell_type": "code",
      "source": [
        "import math\n",
        "\n",
        "numero = 16\n",
        "raiz_cuadrada = math.sqrt(numero)\n",
        "\n",
        "print(\"La raíz cuadrada de\", numero, \"es\", raiz_cuadrada)\n"
      ],
      "metadata": {
        "colab": {
          "base_uri": "https://localhost:8080/"
        },
        "id": "Ruie-uD6SlnE",
        "outputId": "bfa845a8-14d5-4b09-cc6e-3459127bdaa9"
      },
      "execution_count": null,
      "outputs": [
        {
          "output_type": "stream",
          "name": "stdout",
          "text": [
            "La raíz cuadrada de 16 es 4.0\n"
          ]
        }
      ]
    },
    {
      "cell_type": "code",
      "source": [
        "pip install requests"
      ],
      "metadata": {
        "colab": {
          "base_uri": "https://localhost:8080/"
        },
        "id": "_0KXUz8ATOHC",
        "outputId": "7937794b-cd8a-4d88-e82a-3561dbfdc768"
      },
      "execution_count": null,
      "outputs": [
        {
          "output_type": "stream",
          "name": "stdout",
          "text": [
            "Requirement already satisfied: requests in /usr/local/lib/python3.10/dist-packages (2.31.0)\n",
            "Requirement already satisfied: charset-normalizer<4,>=2 in /usr/local/lib/python3.10/dist-packages (from requests) (3.2.0)\n",
            "Requirement already satisfied: idna<4,>=2.5 in /usr/local/lib/python3.10/dist-packages (from requests) (3.4)\n",
            "Requirement already satisfied: urllib3<3,>=1.21.1 in /usr/local/lib/python3.10/dist-packages (from requests) (2.0.4)\n",
            "Requirement already satisfied: certifi>=2017.4.17 in /usr/local/lib/python3.10/dist-packages (from requests) (2023.7.22)\n"
          ]
        }
      ]
    },
    {
      "cell_type": "code",
      "source": [
        "pip install pandas\n",
        "\n",
        "import pandas as pd\n",
        "# URL de la página que queremos obtener\n",
        "url = \"https://www.example.com\"\n",
        "\n",
        "# Realizar la solicitud GET a la URL\n",
        "response = requests.get(url)\n",
        "\n",
        "# Verificar si la solicitud fue exitosa (código de estado 200)\n",
        "if response.status_code == 200:\n",
        "    # Obtener el contenido de la página como texto\n",
        "    contenido = response.text\n",
        "    print(\"Contenido de la página:\", contenido[:200])"
      ],
      "metadata": {
        "colab": {
          "base_uri": "https://localhost:8080/",
          "height": 142
        },
        "id": "3wkoitGsSlmO",
        "outputId": "092736bc-f703-47c1-e004-fcfe7584239a"
      },
      "execution_count": null,
      "outputs": [
        {
          "output_type": "error",
          "ename": "SyntaxError",
          "evalue": "ignored",
          "traceback": [
            "\u001b[0;36m  File \u001b[0;32m\"<ipython-input-9-95cf1acae275>\"\u001b[0;36m, line \u001b[0;32m1\u001b[0m\n\u001b[0;31m    pip install pandas\u001b[0m\n\u001b[0m        ^\u001b[0m\n\u001b[0;31mSyntaxError\u001b[0m\u001b[0;31m:\u001b[0m invalid syntax\n"
          ]
        }
      ]
    },
    {
      "cell_type": "code",
      "execution_count": null,
      "metadata": {
        "id": "GyiIPPhR_EjF",
        "colab": {
          "base_uri": "https://localhost:8080/"
        },
        "outputId": "56d7ce6a-a916-4e4a-aa01-f0116dbbb885"
      },
      "outputs": [
        {
          "output_type": "execute_result",
          "data": {
            "text/plain": [
              "(str, str)"
            ]
          },
          "metadata": {},
          "execution_count": 4
        }
      ],
      "source": [
        "\n",
        "def function(__unused):\n",
        "    \"\"\"\n",
        "      Simple function to obtain type_str_message for message1 and message2\n",
        "    \"\"\"\n",
        "    mensaje1 = \"Hola esto es una prueba\"\n",
        "    mensaje2 = ' aquí continuamos la prueba con comillas simples'\n",
        "    # utilicé el método __name__ del objeto type para obtener el nombre de la clase en lugar de simplemente imprimir el objeto type.\n",
        "    tipo_str_mensaje1: str = type(mensaje1)\n",
        "    tipo_str_mensaje2: str= type(mensaje2)\n",
        "\n",
        "    # Si deseas obtener la cadena formateada como en el código original,\n",
        "    # resultado = f'tipo_{type(mensaje1).__name__}_mensaje1, tipo_{type(mensaje2).__name__}_mensaje2'\n",
        "    return  tipo_str_mensaje1, tipo_str_mensaje2\n",
        "\n",
        "\n",
        "function(None)"
      ]
    },
    {
      "cell_type": "markdown",
      "metadata": {
        "id": "kiToUnqMNmJc"
      },
      "source": [
        "<p>\n",
        "    <img src=\"https://cdn.icon-icons.com/icons2/1130/PNG/512/numberzeroinacircle_80181.png\" alt=\"02\" width=\"65\" height=\"65\" />\n",
        "    <img src=\"https://cdn.icon-icons.com/icons2/1130/PNG/512/numbertwoinacircle_80299.png\" alt=\"02\" width=\"65\" height=\"65\" />\n",
        "</p>\n",
        "\n",
        "* **ID** PYLVL1ASTR-02\n",
        "* **DESCRIPCIÓN:** Tratamiento de String como cadenas de elementos.\n",
        "\n",
        "    Cuando se crea un objeto del tipo string en python, este es almacenado en pequeñas posiciones de memoria comenzando siempre con la posición cero, hasta el tamaño de la cadena de caracteres.\n",
        "\n",
        "    Para seleccionar un caracter específico colocamos el índice donde se ubica el caracter dentro de corchetes.\n",
        "\n",
        "    **Ejercicio:**<br/>\n",
        "    Dado el siguiente String, retornar el caracter en la posición 8\n",
        "\n",
        "\\\n",
        "**Reglas:**\n",
        "1. No modifique la declaración de la función. El concepto detras de las funciones se verá mas adelante.\n",
        "2. Si no sigue alguna de estas reglas, el ejercicio será marcado como erroneo.\n",
        "\n",
        "\\\n",
        "**Respuesta Esperada**\n",
        "\n",
        "```python\n",
        "return caracter\n",
        "```\n"
      ]
    },
    {
      "cell_type": "markdown",
      "source": [],
      "metadata": {
        "id": "0TwEnhzUFTGO"
      }
    },
    {
      "cell_type": "code",
      "execution_count": null,
      "metadata": {
        "id": "PP9Ioa9TQ8dy",
        "colab": {
          "base_uri": "https://localhost:8080/",
          "height": 35
        },
        "outputId": "2f9e0368-e0c3-4338-bec3-cf1b4d433c13"
      },
      "outputs": [
        {
          "output_type": "execute_result",
          "data": {
            "text/plain": [
              "'p'"
            ],
            "application/vnd.google.colaboratory.intrinsic+json": {
              "type": "string"
            }
          },
          "metadata": {},
          "execution_count": 2
        }
      ],
      "source": [
        "\n",
        "def function(mensaje):\n",
        "    \"\"\"\n",
        "      Simple function to obtain type_str_message for message1 and message2\n",
        "    \"\"\"\n",
        "    caracter = mensaje[7]\n",
        "    return caracter\n",
        "\n",
        "\n",
        "function(\"Estoy aprendiendo\")"
      ]
    },
    {
      "cell_type": "markdown",
      "metadata": {
        "id": "N5EqgFikQH46"
      },
      "source": [
        "<p>\n",
        "    <img src=\"https://cdn.icon-icons.com/icons2/1130/PNG/512/numberzeroinacircle_80181.png\" alt=\"03\" width=\"65\" height=\"65\" />\n",
        "    <img src=\"https://cdn.icon-icons.com/icons2/1130/PNG/512/numberthreeinacircle_80289.png\" alt=\"03\" width=\"65\" height=\"65\" />\n",
        "</p>\n",
        "\n",
        "\n",
        "* **ID** PYLVL1ASTR-03\n",
        "* **DESCRIPCIÓN:** Tratamiento de String como cadenas de elementos.\n",
        "  \n",
        "    Para realizar slices en python o seleccionar segmentos del string se utiliza la notación: string[inicio:final:salteo].\n",
        "\n",
        "    Para invertir una String se utiliza la notacion [::-1]  </br>\n",
        "\n",
        "    **Ejemplo:**<br/>\n",
        "    ```python\n",
        "    a = \"Hola mundo\"\n",
        "    a[:4] #     -> Retorna: Hola\n",
        "    a[5:] #     -> Retorna: Mundo\n",
        "    a[::-1] #   -> Retorna: odnum aloH\n",
        "    a[0:10:3] # -> Retorna: hauo\n",
        "    ```\n",
        "\n",
        "    **Ejercicio:**\n",
        "    Dada la siguiente String genere los siguientes slices </br>\n",
        "    * String hasta la posicion 5.\n",
        "    * String desde la posición 6.\n",
        "    * String invertido.\n",
        "    * Todo el string pero en saltos de 3.\n",
        "\n",
        "\\\n",
        "**Reglas:**\n",
        "1. No modifique la declaración de la función. El concepto detras de las funciones se verá mas adelante.\n",
        "2. Si no sigue alguna de estas reglas, el ejercicio será marcado como erroneo.\n",
        "\n",
        "\\\n",
        "**Respuesta Esperada**\n",
        "\n",
        "```python\n",
        "return resultados_string, ...\n",
        "```\n",
        "\n"
      ]
    },
    {
      "cell_type": "code",
      "execution_count": null,
      "metadata": {
        "id": "wenUGkHINCyq",
        "colab": {
          "base_uri": "https://localhost:8080/"
        },
        "outputId": "61460fa6-ee19-4daa-c4a7-7e8d9a890a6b"
      },
      "outputs": [
        {
          "output_type": "execute_result",
          "data": {
            "text/plain": [
              "('Estoy', ' aprendiendo', 'odneidnerpa yotsE', 'Eoaeid')"
            ]
          },
          "metadata": {},
          "execution_count": 3
        }
      ],
      "source": [
        "def function(string):\n",
        "    \"\"\"\n",
        "      Simple function to obtain type_str_message for message1 and message2\n",
        "    \"\"\"\n",
        "    resultado1_string: str = string[:5]\n",
        "    resultado2_string: str= string[5:]\n",
        "    resultado3_string: str = string[::-1]\n",
        "    resultado4_string: str = string[::3]\n",
        "    return resultado1_string, resultado2_string, resultado3_string, resultado4_string\n",
        "\n",
        "\n",
        "function(\"Estoy aprendiendo\")"
      ]
    },
    {
      "cell_type": "markdown",
      "metadata": {
        "id": "FUESHrYcl5Om"
      },
      "source": [
        "<p>\n",
        "    <img src=\"https://cdn.icon-icons.com/icons2/1130/PNG/512/numberzeroinacircle_80181.png\" alt=\"04\" width=\"65\" height=\"65\" />\n",
        "    <img src=\"https://cdn.icon-icons.com/icons2/1130/PNG/512/numberfourincircularbutton_80047.png\" alt=\"04\" width=\"65\" height=\"65\" />\n",
        "</p>\n",
        "\n",
        "\n",
        "* **ID** PYLVL1ASTR-04\n",
        "* **DESCRIPCIÓN:** Operadores de cadenas de caracteres.\n",
        "\n",
        "    Concatenar\n",
        "    El proceso de concatenación se realiza mediante el operador de suma (+).</br>\n",
        "    \n",
        "    Escribir dentro de la función ``function`` la lógica para crear 3 variables que contengan cualquier palabra que desee y luego concatenarlos teniendo en cuenta los espacios entre las variables que va concatenar.\n",
        "\n",
        "\\\n",
        "**Reglas:**\n",
        "1. No modifique la declaración de la función. El concepto detras de las funciones se verá mas adelante.\n",
        "2. Si no sigue alguna de estas reglas, el ejercicio será marcado como erroneo.\n",
        "\n",
        "\\\n",
        "**Respuesta Esperada**\n",
        "\n",
        "```python\n",
        "return concatenacion\n",
        "```\n"
      ]
    },
    {
      "cell_type": "code",
      "execution_count": null,
      "metadata": {
        "cellView": "form",
        "id": "4kZX3b9om0ah",
        "colab": {
          "base_uri": "https://localhost:8080/",
          "height": 35
        },
        "outputId": "d033ae4f-0e6e-4d59-c7b4-cdf8dcb0d9e2"
      },
      "outputs": [
        {
          "output_type": "execute_result",
          "data": {
            "text/plain": [
              "'Someone  is watching us pay attention.'"
            ],
            "application/vnd.google.colaboratory.intrinsic+json": {
              "type": "string"
            }
          },
          "metadata": {},
          "execution_count": 4
        }
      ],
      "source": [
        "def function(__unused):\n",
        "    variable1: str = 'Someone  is '\n",
        "    variable2: str  = 'watching us '\n",
        "    variable3: str = 'pay attention.'\n",
        "    concatenacion: str  = variable1+ variable2 + variable3\n",
        "    return concatenacion\n",
        "\n",
        "\n",
        "function(None)"
      ]
    },
    {
      "cell_type": "markdown",
      "metadata": {
        "id": "i75ca6pU_EjI"
      },
      "source": [
        "<p>\n",
        "    <img src=\"https://cdn.icon-icons.com/icons2/1130/PNG/512/numberzeroinacircle_80181.png\" alt=\"05\" width=\"65\" height=\"65\" />\n",
        "    <img src=\"https://cdn.icon-icons.com/icons2/1130/PNG/512/numberfiveincircularbutton_80245.png\" alt=\"05\" width=\"65\" height=\"65\" />\n",
        "</p>\n",
        "\n",
        "\n",
        "* **ID** PYLVL1ASTR-05\n",
        "* **DESCRIPCIÓN:** Operadores de cadenas de caracteres.\n",
        "\n",
        "    Multiplicar </br>\n",
        "    Si quieren varias copias de una cadena de caracteres se utiliza el operador de multiplicación (*)</br>\n",
        "\n",
        "    Escribir dentro de la función ``function`` la lógica para imprimir 4 veces el input que se entrega en el parametro `string` . Recuerde que el tipo de dato entregado por el parametro `string` no siempre será string.\n",
        "\n",
        "\\\n",
        "**Reglas:**\n",
        "1. No modifique la declaración de la función. El concepto detras de las funciones se verá mas adelante.\n",
        "2. Si no sigue alguna de estas reglas, el ejercicio será marcado como erroneo.\n",
        "\n",
        "\\\n",
        "**Respuesta Esperada**\n",
        "\n",
        "```python\n",
        "return string_por_4\n",
        "```"
      ]
    },
    {
      "cell_type": "code",
      "execution_count": null,
      "metadata": {
        "id": "PEicBMrL_EjI",
        "colab": {
          "base_uri": "https://localhost:8080/",
          "height": 35
        },
        "outputId": "e7d6260e-a4f9-4b0c-8900-79b0e04656a4"
      },
      "outputs": [
        {
          "output_type": "execute_result",
          "data": {
            "text/plain": [
              "'PythonPythonPythonPython'"
            ],
            "application/vnd.google.colaboratory.intrinsic+json": {
              "type": "string"
            }
          },
          "metadata": {},
          "execution_count": 5
        }
      ],
      "source": [
        "def function(string):\n",
        "    string_por_4 : str = str(string) *4\n",
        "    return string_por_4\n",
        "\n",
        "function(\"Python\")"
      ]
    },
    {
      "cell_type": "markdown",
      "metadata": {
        "id": "dfl1e5nD_EjI"
      },
      "source": [
        "<p>\n",
        "    <img src=\"https://cdn.icon-icons.com/icons2/1130/PNG/512/numberzeroinacircle_80181.png\" alt=\"06\" width=\"65\" height=\"65\" />\n",
        "    <img src=\"https://cdn.icon-icons.com/icons2/1130/PNG/512/numbersixinacircle_80203.png\" alt=\"06\" width=\"65\" height=\"65\" />\n",
        "</p>\n",
        "\n",
        "\n",
        "* **ID** PYLVL1ASTR-06\n",
        "* **DESCRIPCIÓN:** Métodos para cadenas de caracteres.\n",
        "\n",
        "    Los métodos de los objetos string en python para analizar el contenido de la cadena de caracteres son: <br/>\n",
        "    &nbsp;&nbsp;&nbsp;&nbsp;len()\tRetorna el tamaño de la cadena de caracteres <br/>\n",
        "    &nbsp;&nbsp;&nbsp;&nbsp;count()\tRetorna el numero de veces que se repite un caracter en la cadena <br/>\n",
        "    &nbsp;&nbsp;&nbsp;&nbsp;find\tBusca un substring o caracter dentro de la cadena de caracteres, retorna la posicion del primer caracter del substring dentro de la cadena si existe<br/>\n",
        "\n",
        "    USO: <br/>\n",
        "    &nbsp;&nbsp;&nbsp;&nbsp;len(string) <br/>\n",
        "    &nbsp;&nbsp;&nbsp;&nbsp;.count() <br/>\n",
        "    &nbsp;&nbsp;&nbsp;&nbsp;.find() <br/>\n",
        "\n",
        "    **Ejercicio:**<br/>\n",
        "    Dado un input dado por el parametro `string`, escribir dentro de la función ``function`` la lógica que permita calcular, imprimir y retornar:\n",
        "    1. su longitud.\n",
        "    2. la cantidad de veces que se repite el caracter 'o'.\n",
        "    3. La posición de donde comienza la ultima palabra.\n",
        "\n",
        "\\\n",
        "**Reglas:**\n",
        "1. No modifique la declaración de la función. El concepto detras de las funciones se verá mas adelante.\n",
        "2. Si no sigue alguna de estas reglas, el ejercicio será marcado como erroneo.\n",
        "\n",
        "\\\n",
        "**Respuesta Esperada**\n",
        "\n",
        "```python\n",
        "return resultados_solicitados, ...\n",
        "```"
      ]
    },
    {
      "cell_type": "code",
      "execution_count": null,
      "metadata": {
        "id": "JHhaPTPL_EjI",
        "colab": {
          "base_uri": "https://localhost:8080/"
        },
        "outputId": "e73b3987-d40d-490e-f215-eec3bf104292"
      },
      "outputs": [
        {
          "output_type": "stream",
          "name": "stdout",
          "text": [
            "33 4 28\n"
          ]
        },
        {
          "output_type": "execute_result",
          "data": {
            "text/plain": [
              "(33, 4, 28)"
            ]
          },
          "metadata": {},
          "execution_count": 11
        }
      ],
      "source": [
        "\n",
        "def function(string):\n",
        "    longitude: int = len(string)\n",
        "    repited_word_count: int = string.count('o')\n",
        "    last_word_start: int =string.rfind(' ') +1\n",
        "    print(longitude, repited_word_count, last_word_start)\n",
        "    return longitude, repited_word_count, last_word_start\n",
        "\n",
        "function(\"python softserve's bootcamp serve\")"
      ]
    },
    {
      "cell_type": "markdown",
      "metadata": {
        "id": "6fLkFTse_EjI"
      },
      "source": [
        "<p>\n",
        "    <img src=\"https://cdn.icon-icons.com/icons2/1130/PNG/512/numberzeroinacircle_80181.png\" alt=\"07\" width=\"65\" height=\"65\" />\n",
        "    <img src=\"https://cdn.icon-icons.com/icons2/1130/PNG/512/numberseveninacircle_80279.png\" alt=\"07\" width=\"65\" height=\"65\" />\n",
        "</p>\n",
        "\n",
        "\n",
        "* **ID** PYLVL1ASTR-07\n",
        "* **DESCRIPCIÓN:** Métodos para cadenas de caracteres.\n",
        "\n",
        "    Estos son los métodos mas utilizados para realizar transformaciones a la cadena de caracteres dentro de python: <br/>\n",
        "    &nbsp;&nbsp;&nbsp;&nbsp;.upper()\tColoca todo el string en mayúscula <br/>\n",
        "    &nbsp;&nbsp;&nbsp;&nbsp;.lower()\tColoca todo el string en minúscula <br/>\n",
        "    &nbsp;&nbsp;&nbsp;&nbsp;.capitalize()\tColoca todo el primer en mayúscula <br/>\n",
        "    &nbsp;&nbsp;&nbsp;&nbsp;.title()\tColoca todo el primer carcater de cada palabra en mayúscula <br/>\n",
        "    &nbsp;&nbsp;&nbsp;&nbsp;.replace(str1,str2)\tReemplaza un substring por otro <br/>\n",
        "    &nbsp;&nbsp;&nbsp;&nbsp;.strip()\tElimina los espacios innecesarios (en blanco) al inicio y fin del string <br/>\n",
        "    &nbsp;&nbsp;&nbsp;&nbsp;.rstrip()\tElimina los espacios innecesarios (en blanco) al fin del string <br/>\n",
        "    &nbsp;&nbsp;&nbsp;&nbsp;.lstrip()\tElimina los espacios innecesarios (en blanco) al inicio del string<br/>\n",
        "\n",
        "    USO: <br/>\n",
        "    &nbsp;&nbsp;&nbsp;&nbsp;string.metodo() <br/>\n",
        "\n",
        "    **Ejercicio:** <br/>\n",
        "    Dado un input dado por el parametro `string`, escribir dentro de la función ``function`` la lógica que permita calcular, imprimir y retornar:\n",
        "    1. Cambiar el texto a mayuscula.\n",
        "    2. Eliminar el espacio al inicio del string.\n",
        "    3. Convertir el text a minúscula.\n",
        "    4. Convertir el texto a letra capital (tipo titulo).\n",
        "    5. Quitar los espacios del texto.\n",
        "\n",
        "\\\n",
        "**Reglas:**\n",
        "1. No modifique la declaración de la función. El concepto detras de las funciones se verá mas adelante.\n",
        "2. Si no sigue alguna de estas reglas, el ejercicio será marcado como erroneo.\n",
        "\n",
        "\\\n",
        "**Respuesta Esperada**\n",
        "\n",
        "```python\n",
        "return resultados_solicitados, ...\n",
        "```"
      ]
    },
    {
      "cell_type": "code",
      "execution_count": null,
      "metadata": {
        "id": "l8Ckqkie_EjI",
        "colab": {
          "base_uri": "https://localhost:8080/"
        },
        "outputId": "f36e4159-aac5-4768-b0cc-bb28e1b77ce6"
      },
      "outputs": [
        {
          "output_type": "stream",
          "name": "stdout",
          "text": [
            "PYTHON Python python Python Python\n"
          ]
        },
        {
          "output_type": "execute_result",
          "data": {
            "text/plain": [
              "('PYTHON', 'Python', 'python', 'Python', 'Python')"
            ]
          },
          "metadata": {},
          "execution_count": 83
        }
      ],
      "source": [
        "def function(string):\n",
        "    upper_text: str = string.upper()\n",
        "    delete_blank_start: str = string.lstrip()\n",
        "    lower_text: str = string.lower()\n",
        "    capital_text: str = string.capitalize()\n",
        "    delete_spaces: str = string.replace(' ', '')\n",
        "    print(upper_text, delete_blank_start, lower_text, capital_text, delete_spaces)\n",
        "    return upper_text, delete_blank_start, lower_text, capital_text, delete_spaces\n",
        "\n",
        "\n",
        "function(\"Python\")\n"
      ]
    },
    {
      "cell_type": "markdown",
      "metadata": {
        "id": "754W607t_EjI"
      },
      "source": [
        "<p>\n",
        "    <img src=\"https://cdn.icon-icons.com/icons2/1130/PNG/512/numberzeroinacircle_80181.png\" alt=\"08\" width=\"65\" height=\"65\" />\n",
        "    <img src=\"https://cdn.icon-icons.com/icons2/1130/PNG/512/numbereightinacircle_80071.png\" alt=\"08\" width=\"65\" height=\"65\" />\n",
        "</p>\n",
        "\n",
        "\n",
        "* **ID** PYLVL1ASTR-08\n",
        "* **DESCRIPCIÓN:** Métodos para cadenas de caracteres.\n",
        "\n",
        "    Estos son los métodos mas utilizados para realizar transformaciones a la cadena de caracteres dentro de python: </br>\n",
        "    &nbsp;&nbsp;&nbsp;&nbsp;.upper()\tColoca todo el string en mayúscula </br>\n",
        "    &nbsp;&nbsp;&nbsp;&nbsp;.lower()\tColoca todo el string en minúscula </br>\n",
        "    &nbsp;&nbsp;&nbsp;&nbsp;.capitalize()\tColoca todo el primer en mayúscula </br>\n",
        "    &nbsp;&nbsp;&nbsp;&nbsp;.title()\tColoca todo el primer carcater de cada palabra en mayúscula </br>\n",
        "    &nbsp;&nbsp;&nbsp;&nbsp;.replace(str1,str2)\tReemplaza un substring por otro </br>\n",
        "    &nbsp;&nbsp;&nbsp;&nbsp;.strip()\tElimina los espacios innecesarios (en blanco) al inicio y fin del string </br>\n",
        "    &nbsp;&nbsp;&nbsp;&nbsp;.rstrip()\tElimina los espacios innecesarios (en blanco) al fin del string </br>\n",
        "    &nbsp;&nbsp;&nbsp;&nbsp;.lstrip()\tElimina los espacios innecesarios (en blanco) al inicio del string</br>\n",
        "\n",
        "    USO: </br>\n",
        "    &nbsp;&nbsp;&nbsp;&nbsp;string.metodo() </br>\n",
        "\n",
        "    **Ejercicio:** <br>\n",
        "    Dado un input dado por el parametro `string`, escribir dentro de la función ``function`` la lógica que permita calcular, imprimir y retornar:\n",
        "    1. Colocar el primer caracter de cada palabra en mayuscula <br>\n",
        "    2. cambiar el texto 'Curso' por 'Bootcamp' <br>\n",
        "    3. cree una nueva variable que contenga el mismo string pero eliminando los espacios al inicio y final del string\n",
        "\n",
        "    Tener en cuenta que la longitud del string original len() es 30, la nueva variable con el string sin los espacios en blanco debe tener un len de 28\n",
        "\n",
        "\\\n",
        "**Reglas:**\n",
        "1. No modifique la declaración de la función. El concepto detras de las funciones se verá mas adelante.\n",
        "2. Si no sigue alguna de estas reglas, el ejercicio será marcado como erroneo.\n",
        "\n",
        "\\\n",
        "**Respuesta Esperada**\n",
        "\n",
        "```python\n",
        "return resultados_solicitados, ...\n",
        "```"
      ]
    },
    {
      "cell_type": "code",
      "execution_count": null,
      "metadata": {
        "id": "Ibvm22Xw_EjI",
        "colab": {
          "base_uri": "https://localhost:8080/"
        },
        "outputId": "995ea1c9-ac7d-4bb2-c862-1e7eb74fbeee"
      },
      "outputs": [
        {
          "output_type": "stream",
          "name": "stdout",
          "text": [
            " Curso De Python En Softserve   Bootcamp de Python en Softserve  28\n"
          ]
        },
        {
          "output_type": "execute_result",
          "data": {
            "text/plain": [
              "(' Curso De Python En Softserve ', ' Bootcamp de Python en Softserve ', 28)"
            ]
          },
          "metadata": {},
          "execution_count": 12
        }
      ],
      "source": [
        "def function(string):\n",
        "    like_title: str = string.title()\n",
        "    change_text: str = string.replace('Curso', 'Bootcamp')\n",
        "    new_string: str = len(string.strip())\n",
        "    print(like_title, change_text, new_string)\n",
        "    return like_title, change_text, new_string\n",
        "\n",
        "\n",
        "function(' Curso de Python en Softserve ')"
      ]
    },
    {
      "cell_type": "markdown",
      "metadata": {
        "id": "h_aHt1If_EjJ"
      },
      "source": [
        "<p>\n",
        "    <img src=\"https://cdn.icon-icons.com/icons2/1130/PNG/512/numberzeroinacircle_80181.png\" alt=\"09\" width=\"65\" height=\"65\" />\n",
        "    <img src=\"https://cdn.icon-icons.com/icons2/1130/PNG/512/numbernineinacircle_80218.png\" alt=\"09\" width=\"65\" height=\"65\" />\n",
        "</p>\n",
        "\n",
        "* **ID** PYLVL1ASTR-09\n",
        "* **DESCRIPCIÓN:** Métodos para cadenas de caracteres.\n",
        "\n",
        "    Dividir Caracteres dentro de python: </br>\n",
        "    `split([...])`\tSepara a traves de un delimitador un objeto del tipo str en python en varios strings almacenados en un objeto del tipo list. </br>\n",
        "\n",
        "    USO: </br>\n",
        "    string.split('delimitador') </br>\n",
        "\n",
        "    **Ejemplo:** </br>\n",
        "    ```python\n",
        "    # Separar el siguiente string en el punto. </br>\n",
        "    frase = 'Hola.Mundo'\n",
        "    frase = frase.split('.')\n",
        "    print(frase) # -> daria como resultado ['Hola', 'Mundo']\n",
        "    # Cada string esta en una posicion de la lista comenzando en cero\n",
        "    # Para imprimir el primer valor de la lista seria:\n",
        "    print(frase[0]) # -> imprimiría 'Hola'\n",
        "    # Para acceder al ultimo elemento se utiliza [-1]\n",
        "    print(frase[-1]) # -> imprimiría 'Mundo'\n",
        "    ```\n",
        "\n",
        "    **Ejercicio:** </br>\n",
        "    Dado un input dado por el parametro `string`, escribir dentro de la función ``function`` la lógica que permita calcular, imprimir y retornar:\n",
        "    1. Separe el string en el codigo por sus espacios en blanco y almacenelo en la misma variable.\n",
        "    2. Luego almacene el string 'Python' de la lista en otra variable.\n",
        "    3. Cambie el texto 'Python' en esa variable por mayusculas he imprimalo.\n",
        "\n",
        "\\\n",
        "**Reglas:**\n",
        "1. No modifique la declaración de la función. El concepto detras de las funciones se verá mas adelante.\n",
        "2. Si no sigue alguna de estas reglas, el ejercicio será marcado como erroneo.\n",
        "\n",
        "\\\n",
        "**Respuesta Esperada**\n",
        "\n",
        "```python\n",
        "return resultado_operacion\n",
        "```"
      ]
    },
    {
      "cell_type": "code",
      "execution_count": null,
      "metadata": {
        "id": "9VkJ9Z9h_EjJ",
        "colab": {
          "base_uri": "https://localhost:8080/"
        },
        "outputId": "b0c8b9ea-9bb5-4338-b010-47968d02d630"
      },
      "outputs": [
        {
          "output_type": "stream",
          "name": "stdout",
          "text": [
            "PYTHON\n"
          ]
        },
        {
          "output_type": "execute_result",
          "data": {
            "text/plain": [
              "(['Bootcamp', 'de', 'Python', 'en', 'Softserve'], 'PYTHON')"
            ]
          },
          "metadata": {},
          "execution_count": 13
        }
      ],
      "source": [
        "\n",
        "def function(string):\n",
        "    separate_text: str = string.split(' ')\n",
        "    save_text: str = separate_text[2]\n",
        "    # save_index: int = string.find('Python')\n",
        "    # save_text: str = string[save_index: save_index+6]\n",
        "    upper_tex: str = save_text.upper()\n",
        "    print(upper_tex)\n",
        "    return separate_text, upper_tex\n",
        "\n",
        "\n",
        "function('Bootcamp de Python en Softserve')"
      ]
    },
    {
      "cell_type": "markdown",
      "metadata": {
        "id": "iBQ8-4ho_EjJ"
      },
      "source": [
        "<p>\n",
        "    <img src=\"https://cdn.icon-icons.com/icons2/1130/PNG/512/numberoneinacircle_80030.png\" alt=\"10\" width=\"65\" height=\"65\" />\n",
        "    <img src=\"https://cdn.icon-icons.com/icons2/1130/PNG/512/numberzeroinacircle_80181.png\" alt=\"10\" width=\"65\" height=\"65\" />\n",
        "</p>\n",
        "\n",
        "\n",
        "* **ID** PYLVL1ASTR-10\n",
        "* **DESCRIPCIÓN:** Métodos para cadenas de caracteres.\n",
        "\n",
        "    Encadenar Metodos </br>\n",
        "    En python se pueden encadenar metodos en una sola linea de codigo </br>\n",
        "\n",
        "    USO: </br>\n",
        "    string.metodo1().metodo2().metodo3() ... </br>\n",
        "\n",
        "    **Ejemplo:**<br/>\n",
        "    ```python\n",
        "    string = 'Hola mundo'\n",
        "    # Separar el string, acceder a su segundo elemento, convertir su primer caracter a mayuscula he invierta su sentido.\n",
        "\n",
        "    string = string.split(' ')[1].title()[::-1]\n",
        "    print(string) # -> imprime odnuM\n",
        "    ```\n",
        "\n",
        "    \\\n",
        "    **Ejercicio:** </br>\n",
        "    Dado un input dado por el parametro `string`, escribir dentro de la función ``function`` la lógica que permita calcular, imprimir y retornar:\n",
        "    1. dado el string `string1`, separelo, acceda al ultimo elemento, reemplace su valor por python en mayusculas he imprimalo.\n",
        "    2. dado el string `string2`, separelo, acceda al segundo elemento, inviertalo he imprima la cantidad de veces que contiene el caracter 'i'.\n",
        "\n",
        "\\\n",
        "**Reglas:**\n",
        "1. No modifique la declaración de la función. El concepto detras de las funciones se verá mas adelante.\n",
        "2. Si no sigue alguna de estas reglas, el ejercicio será marcado como erroneo.\n",
        "\n",
        "\\\n",
        "**Respuesta Esperada**\n",
        "\n",
        "```python\n",
        "return resultado_operacion\n",
        "```"
      ]
    },
    {
      "cell_type": "code",
      "execution_count": null,
      "metadata": {
        "id": "U1DlHVs6_EjJ",
        "colab": {
          "base_uri": "https://localhost:8080/"
        },
        "outputId": "43144fd9-58e2-4de9-8e4c-c4d211c0cf56"
      },
      "outputs": [
        {
          "output_type": "execute_result",
          "data": {
            "text/plain": [
              "('PYTHON', 2)"
            ]
          },
          "metadata": {},
          "execution_count": 14
        }
      ],
      "source": [
        "\n",
        "def function(string1, string2):\n",
        "    new_string1  = string1.split(' ')[-1].replace(string1.split(' ')[-1], 'python').upper()\n",
        "    # new_string1  = string1.replace(string1.split()[-1], 'python'.upper())\n",
        "    new_string2  = string2.split('-')[1][::-1].count('i')\n",
        "    return new_string1, new_string2\n",
        "\n",
        "\n",
        "function('Me gusta aprender a programar en Java', 'estoy-delimitado-por-guiones')"
      ]
    }
  ],
  "metadata": {
    "colab": {
      "provenance": [],
      "include_colab_link": true
    },
    "kernelspec": {
      "display_name": "Python 3",
      "name": "python3"
    },
    "language_info": {
      "codemirror_mode": {
        "name": "ipython",
        "version": 3
      },
      "file_extension": ".py",
      "mimetype": "text/x-python",
      "name": "python",
      "nbconvert_exporter": "python",
      "pygments_lexer": "ipython3",
      "version": "3.9.12"
    }
  },
  "nbformat": 4,
  "nbformat_minor": 0
}